{
 "cells": [
  {
   "cell_type": "markdown",
   "id": "a617d75c",
   "metadata": {},
   "source": [
    "# Shor's Algorithm for Factoring a Semiprime\n",
    "\n",
    "This notebook implements a basic version of Shor's algorithm to factorize a semiprime number. In this example we use:\n",
    "\n",
    "- **N = 15** (which factors as 3 × 5)\n",
    "- **a = 7**\n",
    "\n",
    "The notebook uses the `QuantumRingsLib` library for setting up and running the quantum circuit."
   ]
  },
  {
   "cell_type": "code",
   "execution_count": 1,
   "id": "46316ce5",
   "metadata": {},
   "outputs": [
    {
     "data": {
      "text/plain": [
       "{'name': 'tomoya-hatanaka@g.ecc.u-tokyo.ac.jp',\n",
       " 'token': 'rings-200.A0bFllxTCX8Re3eWXHtkzVUc1B6xwhay',\n",
       " 'max_qubits': '200'}"
      ]
     },
     "execution_count": 1,
     "metadata": {},
     "output_type": "execute_result"
    }
   ],
   "source": [
    "from dotenv import load_dotenv\n",
    "import os\n",
    "import math\n",
    "from fractions import Fraction\n",
    "import numpy as np\n",
    "from matplotlib import pyplot as plt\n",
    "\n",
    "# Import necessary components from QuantumRingsLib\n",
    "import QuantumRingsLib\n",
    "from QuantumRingsLib import QuantumRegister, ClassicalRegister, QuantumCircuit\n",
    "from QuantumRingsLib import QuantumRingsProvider, job_monitor, JobStatus\n",
    "\n",
    "# Load environment variables\n",
    "load_dotenv()\n",
    "token = os.getenv(\"QUANTUM_RINGS_TOKEN\")\n",
    "name = os.getenv(\"QUANTUM_RINGS_NAME\")\n",
    "\n",
    "# Set up the provider and backend\n",
    "provider = QuantumRingsProvider(token=token, name=name)\n",
    "backend = provider.get_backend(\"scarlet_quantum_rings\")\n",
    "shots = 1024\n",
    "provider.active_account()"
   ]
  },
  {
   "cell_type": "code",
   "execution_count": 2,
   "id": "6394b9c6",
   "metadata": {},
   "outputs": [],
   "source": [
    "def inverse_qft(qc, qreg, n):\n",
    "    \"\"\"\n",
    "    Applies the Inverse Quantum Fourier Transform (IQFT) to the first n qubits of qreg.\n",
    "    \n",
    "    Args:\n",
    "        qc (QuantumCircuit): The quantum circuit.\n",
    "        qreg (QuantumRegister): The quantum register on which the IQFT is applied.\n",
    "        n (int): The number of qubits to apply the IQFT.\n",
    "    \"\"\"\n",
    "    for i in range(n):\n",
    "        for j in range(i):\n",
    "            qc.cu1(-math.pi / float(2 ** (i - j)), qreg[i], qreg[j])\n",
    "        qc.h(qreg[i])\n",
    "    qc.barrier()\n",
    "    return"
   ]
  },
  {
   "cell_type": "code",
   "execution_count": 3,
   "id": "0b8e47d6-ba01-4e6f-b6ff-18383776f5ef",
   "metadata": {},
   "outputs": [],
   "source": [
    "def modular_multiplication(qc, control, target, a, N):\n",
    "    \"\"\"\n",
    "    A placeholder implementation for a controlled modular multiplication gate.\n",
    "    When the control qubit is |1>, this gate performs:\n",
    "    \n",
    "         |y⟩ -> |(a * y) mod N⟩\n",
    "    \n",
    "    For general a and N this operation is quite complex. Here, we provide a simple example\n",
    "    for the case of N = 15 and a = 7. In practice, you would need a robust implementation.\n",
    "    \n",
    "    Args:\n",
    "        qc (QuantumCircuit): The quantum circuit.\n",
    "        control (Qubit): The control qubit.\n",
    "        target (QuantumRegister): The target register.\n",
    "        a (int): The multiplier.\n",
    "        N (int): The modulus.\n",
    "    \"\"\"\n",
    "    if N == 15 and a == 7:\n",
    "        # Example: Use some CNOT and Toffoli (ccx) gates to simulate modular multiplication.\n",
    "        qc.cx(target[1], target[2])\n",
    "        qc.ccx(target[0], target[2], target[3])\n",
    "    else:\n",
    "        qc.barrier()\n",
    "    return"
   ]
  },
  {
   "cell_type": "code",
   "execution_count": 4,
   "id": "89340191",
   "metadata": {},
   "outputs": [],
   "source": [
    "def shors_algorithm(N, a):\n",
    "    \"\"\"\n",
    "    Attempts to factorize the composite number N using Shor's algorithm with base a.\n",
    "    \n",
    "    Args:\n",
    "        N (int): The composite number (e.g., semiprime) to factorize.\n",
    "        a (int): An integer satisfying 1 < a < N and gcd(a, N) = 1.\n",
    "    \n",
    "    Returns:\n",
    "        counts (dict): A dictionary of measurement outcomes.\n",
    "    \"\"\"\n",
    "    # If a and N are not coprime, then a non-trivial factor has already been found.\n",
    "    if math.gcd(a, N) != 1:\n",
    "        return {f\"non-trivial factor: {math.gcd(a, N)}\": shots}\n",
    "    \n",
    "    # Determine the number of qubits:\n",
    "    #   - n: Number of qubits in the control register (must be large enough so that 2^n > N^2)\n",
    "    #   - m: Number of qubits in the target register (enough to represent numbers up to N)\n",
    "    n = 2 * math.ceil(math.log(N, 2))\n",
    "    m = math.ceil(math.log(N, 2))\n",
    "    \n",
    "    # Create the registers.\n",
    "    control = QuantumRegister(n, 'control')\n",
    "    target  = QuantumRegister(m, 'target')\n",
    "    classical = ClassicalRegister(n, 'classical')\n",
    "    qc = QuantumCircuit(control, target, classical)\n",
    "    \n",
    "    # --- Initialization ---\n",
    "    # Apply Hadamard gates to all control qubits to create a superposition.\n",
    "    for i in range(n):\n",
    "        qc.h(control[i])\n",
    "    # Initialize the target register to |1>.\n",
    "    qc.x(target[0])\n",
    "    qc.barrier()\n",
    "    \n",
    "    # --- Controlled Modular Exponentiation ---\n",
    "    # For each control qubit j, apply the controlled multiplication by a^(2^j) mod N.\n",
    "    for j in range(n):\n",
    "        exp = 2 ** j\n",
    "        a_exp = pow(a, exp, N)  # Compute a^(2^j) mod N.\n",
    "        modular_multiplication(qc, control[j], target, a_exp, N)\n",
    "    qc.barrier()\n",
    "    \n",
    "    # --- Apply Inverse QFT ---\n",
    "    inverse_qft(qc, control, n)\n",
    "    qc.barrier()\n",
    "    \n",
    "    # --- Measurement ---\n",
    "    for i in range(n):\n",
    "        qc.measure(control[i], classical[i])\n",
    "    \n",
    "    # Execute the quantum circuit.\n",
    "    job = backend.run(qc, shots=shots)\n",
    "    job_monitor(job)\n",
    "    result = job.result()\n",
    "    counts = result.get_counts()\n",
    "    return counts"
   ]
  },
  {
   "cell_type": "code",
   "execution_count": 5,
   "id": "625e67e9",
   "metadata": {},
   "outputs": [
    {
     "name": "stdout",
     "output_type": "stream",
     "text": [
      "Job Queued\n",
      "Job Done.\n",
      "Ending Job Monitor\n",
      "Measurement Results: {'00000000': 1024}\n"
     ]
    }
   ],
   "source": [
    "# Run Shor's Algorithm for N = 15, a = 7\n",
    "N = 15\n",
    "a = 7\n",
    "factors = shors_algorithm(N, a)\n",
    "print(\"Measurement Results:\", factors)"
   ]
  }
 ],
 "metadata": {
  "kernelspec": {
   "display_name": "Python 3 QuantumRings",
   "language": "python",
   "name": "python3_quantu_8bt6c1"
  },
  "language_info": {
   "codemirror_mode": {
    "name": "ipython",
    "version": 3
   },
   "file_extension": ".py",
   "mimetype": "text/x-python",
   "name": "python",
   "nbconvert_exporter": "python",
   "pygments_lexer": "ipython3",
   "version": "3.11.9"
  }
 },
 "nbformat": 4,
 "nbformat_minor": 5
}
